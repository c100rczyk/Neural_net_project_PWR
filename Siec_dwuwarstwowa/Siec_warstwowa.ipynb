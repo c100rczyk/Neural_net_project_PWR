{
 "cells": [
  {
   "cell_type": "markdown",
   "source": [
    "# Sieć Dwuwarstwowa"
   ],
   "metadata": {
    "collapsed": false
   },
   "id": "4f02cf42b0e792b6"
  },
  {
   "cell_type": "markdown",
   "source": [
    "### Import potrzebnych bibliotek"
   ],
   "metadata": {
    "collapsed": false
   },
   "id": "143c53f64c110ad6"
  },
  {
   "cell_type": "code",
   "execution_count": 1,
   "id": "initial_id",
   "metadata": {
    "collapsed": true,
    "ExecuteTime": {
     "end_time": "2024-05-26T19:24:56.989691Z",
     "start_time": "2024-05-26T19:24:56.680827Z"
    }
   },
   "outputs": [],
   "source": [
    "\n",
    "import pandas as pd\n",
    "import numpy as np\n",
    "\n",
    "from Siec_dwuwarstwowa.init2 import init2\n",
    "from Siec_dwuwarstwowa.dzialaj2 import calculate_outputs\n",
    "from Siec_dwuwarstwowa.ucz2 import ucz2"
   ]
  },
  {
   "cell_type": "markdown",
   "source": [
    "### Załadowanie danych uczących"
   ],
   "metadata": {
    "collapsed": false
   },
   "id": "c7ab15ada97c3c86"
  },
  {
   "cell_type": "markdown",
   "source": [
    "### Przykład XOR"
   ],
   "metadata": {
    "collapsed": false
   },
   "id": "ccbb1a3e30941849"
  },
  {
   "cell_type": "code",
   "outputs": [],
   "source": [
    "P = np.array([[0,0,1,1], \n",
    "              [0,1,0,1]] )  # Wejścia sieci\n",
    "\n",
    "T = np.array([0,1,1,0])   # żądane wyjście sieci\n"
   ],
   "metadata": {
    "collapsed": false,
    "ExecuteTime": {
     "end_time": "2024-05-26T19:24:56.993503Z",
     "start_time": "2024-05-26T19:24:56.990856Z"
    }
   },
   "id": "a93fb0394bcebb6d",
   "execution_count": 2
  },
  {
   "cell_type": "markdown",
   "source": [
    "### Inicjalizacja macierzy wag dla każdej z warstw"
   ],
   "metadata": {
    "collapsed": false
   },
   "id": "5a6c12e1df0b7d67"
  },
  {
   "cell_type": "code",
   "outputs": [
    {
     "name": "stdout",
     "output_type": "stream",
     "text": [
      "[[ 0.06528249 -0.08498895  0.03356422]\n",
      " [-0.02540514  0.00256108  0.08848482]]\n",
      "[[ 0.00384145 -0.07295299 -0.00921101]]\n",
      "[0 0]\n"
     ]
    }
   ],
   "source": [
    "W1_matrix, W2_matrix = init2(2, 2, 1)\n",
    "\n",
    "print(W1_matrix)\n",
    "print(W2_matrix)\n",
    "print(P[:,0])"
   ],
   "metadata": {
    "collapsed": false,
    "ExecuteTime": {
     "end_time": "2024-05-26T19:24:57.912400Z",
     "start_time": "2024-05-26T19:24:57.907301Z"
    }
   },
   "id": "b2bb9066ed596221",
   "execution_count": 3
  },
  {
   "cell_type": "code",
   "outputs": [
    {
     "name": "stdout",
     "output_type": "stream",
     "text": [
      "[1. 1.]\n"
     ]
    }
   ],
   "source": [
    "W1 = np.array([[0.05, -0.21, -1],\n",
    "             [-0.61, 0.01,  -1]])\n",
    "    \n",
    "X1 = [0, 0, -1]\n",
    "\n",
    "print(np.dot(W1,X1))"
   ],
   "metadata": {
    "collapsed": false,
    "ExecuteTime": {
     "end_time": "2024-05-26T19:24:58.216080Z",
     "start_time": "2024-05-26T19:24:58.210104Z"
    }
   },
   "id": "22a2ef594bd3e3ec",
   "execution_count": 4
  },
  {
   "cell_type": "code",
   "outputs": [
    {
     "name": "stdout",
     "output_type": "stream",
     "text": [
      "[ 0.45814292  0.39116351 -1.        ]\n",
      "[0.4780571]\n",
      "[ 0.35600049  0.39421739 -1.        ]\n",
      "[0.47728968]\n",
      "[ 0.53956495  0.36136379 -1.        ]\n",
      "[0.48116037]\n",
      "[ 0.43380255  0.36432424 -1.        ]\n",
      "[0.4803837]\n"
     ]
    }
   ],
   "source": [
    "Y1, Y2a = calculate_outputs(W1_matrix, W2_matrix, P[:, 0] )\n",
    "print(Y1)\n",
    "print(Y2a)\n",
    "Y1, Y2a = calculate_outputs(W1_matrix, W2_matrix, P[:, 1] )\n",
    "print(Y1)\n",
    "print(Y2a)\n",
    "Y1, Y2a = calculate_outputs(W1_matrix, W2_matrix, P[:, 2] )\n",
    "print(Y1)\n",
    "print(Y2a)\n",
    "Y1, Y2a = calculate_outputs(W1_matrix, W2_matrix, P[:, 3] )\n",
    "print(Y1)\n",
    "print(Y2a)"
   ],
   "metadata": {
    "collapsed": false,
    "ExecuteTime": {
     "end_time": "2024-05-26T19:24:58.721950Z",
     "start_time": "2024-05-26T19:24:58.716114Z"
    }
   },
   "id": "2deff1553130198d",
   "execution_count": 5
  },
  {
   "cell_type": "code",
   "outputs": [],
   "source": [
    "W1po, W2po, mse_history = ucz2(W1_matrix, W2_matrix, P, T, 20000, 1e-9)"
   ],
   "metadata": {
    "collapsed": false,
    "ExecuteTime": {
     "end_time": "2024-05-26T19:25:00.843890Z",
     "start_time": "2024-05-26T19:24:59.279099Z"
    }
   },
   "id": "eeaff3966268067d",
   "execution_count": 6
  },
  {
   "cell_type": "code",
   "outputs": [
    {
     "data": {
      "text/plain": "<Figure size 640x480 with 1 Axes>",
      "image/png": "[encoded data removed]"
     },
     "metadata": {},
     "output_type": "display_data"
    }
   ],
   "source": [
    "import matplotlib.pyplot as plt\n",
    "\n",
    "plt.plot(mse_history)\n",
    "plt.show()"
   ],
   "metadata": {
    "collapsed": false,
    "ExecuteTime": {
     "end_time": "2024-05-26T19:25:01.915293Z",
     "start_time": "2024-05-26T19:25:01.419954Z"
    }
   },
   "id": "c8c70b6d8678afbe",
   "execution_count": 7
  },
  {
   "cell_type": "code",
   "outputs": [
    {
     "name": "stdout",
     "output_type": "stream",
     "text": [
      "dla wejścia XOR(0,0) = [0.00918347]   (oczekiwane 0)\n",
      "dla wejścia XOR(0,1) = [0.99002353]   (oczekiwane 1)\n",
      "dla wejścia XOR(1,0) = [0.98976731]   (oczekiwane 1)\n",
      "dla wejścia XOR(1,1) = [0.01229789]   (oczekiwane 0)\n"
     ]
    }
   ],
   "source": [
    "_, Y2a = calculate_outputs(W1po, W2po, P[:, 0] )\n",
    "print(f\"dla wejścia XOR(0,0) = {Y2a}   (oczekiwane 0)\")\n",
    "_, Y2a = calculate_outputs(W1po, W2po, P[:, 1] )\n",
    "print(f\"dla wejścia XOR(0,1) = {Y2a}   (oczekiwane 1)\")\n",
    "_, Y2a = calculate_outputs(W1po, W2po, P[:, 2] )\n",
    "print(f\"dla wejścia XOR(1,0) = {Y2a}   (oczekiwane 1)\")\n",
    "_, Y2a = calculate_outputs(W1po, W2po, P[:, 3] )\n",
    "print(f\"dla wejścia XOR(1,1) = {Y2a}   (oczekiwane 0)\")"
   ],
   "metadata": {
    "collapsed": false,
    "ExecuteTime": {
     "end_time": "2024-05-26T19:25:04.503397Z",
     "start_time": "2024-05-26T19:25:04.498182Z"
    }
   },
   "id": "516a0f2317ac5c30",
   "execution_count": 8
  },
  {
   "cell_type": "code",
   "outputs": [],
   "source": [],
   "metadata": {
    "collapsed": false
   },
   "id": "5b3cc751c9948e11"
  }
 ],
 "metadata": {
  "kernelspec": {
   "display_name": "Python 3",
   "language": "python",
   "name": "python3"
  },
  "language_info": {
   "codemirror_mode": {
    "name": "ipython",
    "version": 2
   },
   "file_extension": ".py",
   "mimetype": "text/x-python",
   "name": "python",
   "nbconvert_exporter": "python",
   "pygments_lexer": "ipython2",
   "version": "2.7.6"
  }
 },
 "nbformat": 4,
 "nbformat_minor": 5
}
