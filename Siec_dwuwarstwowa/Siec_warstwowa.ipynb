{
 "cells": [
  {
   "cell_type": "markdown",
   "source": [
    "# Sieć Dwuwarstwowa"
   ],
   "metadata": {
    "collapsed": false
   },
   "id": "4f02cf42b0e792b6"
  },
  {
   "cell_type": "markdown",
   "source": [
    "### Import potrzebnych bibliotek"
   ],
   "metadata": {
    "collapsed": false
   },
   "id": "143c53f64c110ad6"
  },
  {
   "cell_type": "code",
   "execution_count": 31,
   "id": "initial_id",
   "metadata": {
    "collapsed": true,
    "ExecuteTime": {
     "end_time": "2024-05-24T19:55:06.450456Z",
     "start_time": "2024-05-24T19:55:06.446475Z"
    }
   },
   "outputs": [],
   "source": [
    "\n",
    "import pandas as pd\n",
    "import numpy as np\n",
    "\n",
    "from Siec_dwuwarstwowa.init2 import init2\n",
    "from Siec_dwuwarstwowa.dzialaj2 import calculate_outputs\n",
    "from Siec_dwuwarstwowa.ucz2 import ucz2"
   ]
  },
  {
   "cell_type": "markdown",
   "source": [
    "### Załadowanie danych uczących"
   ],
   "metadata": {
    "collapsed": false
   },
   "id": "c7ab15ada97c3c86"
  },
  {
   "cell_type": "markdown",
   "source": [
    "### Przykład XOR"
   ],
   "metadata": {
    "collapsed": false
   },
   "id": "ccbb1a3e30941849"
  },
  {
   "cell_type": "code",
   "outputs": [],
   "source": [
    "P = np.array([[0,0,1,1], \n",
    "              [0,1,0,1]] )  # Wejścia sieci\n",
    "\n",
    "T = np.array([0,1,1,0])   # żądane wyjście sieci\n"
   ],
   "metadata": {
    "collapsed": false,
    "ExecuteTime": {
     "end_time": "2024-05-24T19:55:06.928803Z",
     "start_time": "2024-05-24T19:55:06.923835Z"
    }
   },
   "id": "a93fb0394bcebb6d",
   "execution_count": 32
  },
  {
   "cell_type": "markdown",
   "source": [
    "### Inicjalizacja macierzy wag dla każdej z warstw"
   ],
   "metadata": {
    "collapsed": false
   },
   "id": "5a6c12e1df0b7d67"
  },
  {
   "cell_type": "code",
   "outputs": [
    {
     "name": "stdout",
     "output_type": "stream",
     "text": [
      "[[-0.0626467  -0.0118934   0.03433832]\n",
      " [-0.05001282 -0.05227474 -0.02950692]]\n",
      "[[-0.00896723 -0.04627253  0.09044336]]\n",
      "[0 0]\n"
     ]
    }
   ],
   "source": [
    "W1_matrix, W2_matrix = init2(2, 2, 1)\n",
    "\n",
    "print(W1_matrix)\n",
    "print(W2_matrix)\n",
    "print(P[:,0])"
   ],
   "metadata": {
    "collapsed": false,
    "ExecuteTime": {
     "end_time": "2024-05-24T20:18:09.154919Z",
     "start_time": "2024-05-24T20:18:09.148696Z"
    }
   },
   "id": "b2bb9066ed596221",
   "execution_count": 99
  },
  {
   "cell_type": "code",
   "outputs": [
    {
     "name": "stdout",
     "output_type": "stream",
     "text": [
      "[1. 1.]\n"
     ]
    }
   ],
   "source": [
    "W1 = np.array([[0.05, -0.21, -1],\n",
    "             [-0.61, 0.01,  -1]])\n",
    "    \n",
    "X1 = [0, 0, -1]\n",
    "\n",
    "print(np.dot(W1,X1))"
   ],
   "metadata": {
    "collapsed": false,
    "ExecuteTime": {
     "end_time": "2024-05-24T20:18:09.913105Z",
     "start_time": "2024-05-24T20:18:09.910254Z"
    }
   },
   "id": "22a2ef594bd3e3ec",
   "execution_count": 100
  },
  {
   "cell_type": "code",
   "outputs": [
    {
     "name": "stdout",
     "output_type": "stream",
     "text": [
      "[ 0.45718223  0.5368169  -1.        ]\n",
      "[0.35504993]\n",
      "[ 0.44246631  0.47157093 -1.        ]\n",
      "[0.3586659]\n",
      "[ 0.38108981  0.47439006 -1.        ]\n",
      "[0.35914902]\n",
      "[ 0.36716646  0.41001506 -1.        ]\n",
      "[0.36272846]\n"
     ]
    }
   ],
   "source": [
    "Y1, Y2a = calculate_outputs(W1_matrix, W2_matrix, P[:, 0] )\n",
    "print(Y1)\n",
    "print(Y2a)\n",
    "Y1, Y2a = calculate_outputs(W1_matrix, W2_matrix, P[:, 1] )\n",
    "print(Y1)\n",
    "print(Y2a)\n",
    "Y1, Y2a = calculate_outputs(W1_matrix, W2_matrix, P[:, 2] )\n",
    "print(Y1)\n",
    "print(Y2a)\n",
    "Y1, Y2a = calculate_outputs(W1_matrix, W2_matrix, P[:, 3] )\n",
    "print(Y1)\n",
    "print(Y2a)"
   ],
   "metadata": {
    "collapsed": false,
    "ExecuteTime": {
     "end_time": "2024-05-24T20:18:10.323169Z",
     "start_time": "2024-05-24T20:18:10.318356Z"
    }
   },
   "id": "2deff1553130198d",
   "execution_count": 101
  },
  {
   "cell_type": "code",
   "outputs": [],
   "source": [
    "W1po, W2po, mse_history = ucz2(W1_matrix, W2_matrix, P, T, 20000, 1e-9)"
   ],
   "metadata": {
    "collapsed": false,
    "ExecuteTime": {
     "end_time": "2024-05-24T20:18:12.318292Z",
     "start_time": "2024-05-24T20:18:10.858572Z"
    }
   },
   "id": "eeaff3966268067d",
   "execution_count": 102
  },
  {
   "cell_type": "code",
   "outputs": [
    {
     "data": {
      "text/plain": "<Figure size 640x480 with 1 Axes>",
      "image/png": "[encoded data removed]"
     },
     "metadata": {},
     "output_type": "display_data"
    }
   ],
   "source": [
    "import matplotlib.pyplot as plt\n",
    "\n",
    "plt.plot(mse_history)\n",
    "plt.show()"
   ],
   "metadata": {
    "collapsed": false,
    "ExecuteTime": {
     "end_time": "2024-05-24T20:18:12.407792Z",
     "start_time": "2024-05-24T20:18:12.319368Z"
    }
   },
   "id": "c8c70b6d8678afbe",
   "execution_count": 103
  },
  {
   "cell_type": "code",
   "outputs": [
    {
     "name": "stdout",
     "output_type": "stream",
     "text": [
      "dla wejścia XOR(0,0) = [0.00961652]   (oczekiwane 0)\n",
      "dla wejścia XOR(0,1) = [0.98986781]   (oczekiwane 1)\n",
      "dla wejścia XOR(1,0) = [0.98993422]   (oczekiwane 1)\n",
      "dla wejścia XOR(1,1) = [0.0122374]   (oczekiwane 0)\n"
     ]
    }
   ],
   "source": [
    "_, Y2a = calculate_outputs(W1po, W2po, P[:, 0] )\n",
    "print(f\"dla wejścia XOR(0,0) = {Y2a}   (oczekiwane 0)\")\n",
    "_, Y2a = calculate_outputs(W1po, W2po, P[:, 1] )\n",
    "print(f\"dla wejścia XOR(0,1) = {Y2a}   (oczekiwane 1)\")\n",
    "_, Y2a = calculate_outputs(W1po, W2po, P[:, 2] )\n",
    "print(f\"dla wejścia XOR(1,0) = {Y2a}   (oczekiwane 1)\")\n",
    "_, Y2a = calculate_outputs(W1po, W2po, P[:, 3] )\n",
    "print(f\"dla wejścia XOR(1,1) = {Y2a}   (oczekiwane 0)\")"
   ],
   "metadata": {
    "collapsed": false,
    "ExecuteTime": {
     "end_time": "2024-05-24T20:18:14.447687Z",
     "start_time": "2024-05-24T20:18:14.442305Z"
    }
   },
   "id": "516a0f2317ac5c30",
   "execution_count": 104
  },
  {
   "cell_type": "code",
   "outputs": [],
   "source": [],
   "metadata": {
    "collapsed": false
   },
   "id": "5b3cc751c9948e11"
  }
 ],
 "metadata": {
  "kernelspec": {
   "display_name": "Python 3",
   "language": "python",
   "name": "python3"
  },
  "language_info": {
   "codemirror_mode": {
    "name": "ipython",
    "version": 2
   },
   "file_extension": ".py",
   "mimetype": "text/x-python",
   "name": "python",
   "nbconvert_exporter": "python",
   "pygments_lexer": "ipython2",
   "version": "2.7.6"
  }
 },
 "nbformat": 4,
 "nbformat_minor": 5
}
