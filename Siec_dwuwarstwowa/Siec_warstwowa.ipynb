{
 "cells": [
  {
   "cell_type": "markdown",
   "source": [
    "# Sieć Dwuwarstwowa"
   ],
   "metadata": {
    "collapsed": false
   },
   "id": "4f02cf42b0e792b6"
  },
  {
   "cell_type": "markdown",
   "source": [
    "### Import potrzebnych bibliotek"
   ],
   "metadata": {
    "collapsed": false
   },
   "id": "143c53f64c110ad6"
  },
  {
   "cell_type": "code",
   "execution_count": 1,
   "id": "initial_id",
   "metadata": {
    "collapsed": true,
    "ExecuteTime": {
     "end_time": "2024-05-26T20:52:05.532228Z",
     "start_time": "2024-05-26T20:52:05.253703Z"
    }
   },
   "outputs": [],
   "source": [
    "\n",
    "import pandas as pd\n",
    "import numpy as np\n",
    "\n",
    "from Siec_dwuwarstwowa.init2 import init2\n",
    "from Siec_dwuwarstwowa.dzialaj2 import calculate_outputs\n",
    "from Siec_dwuwarstwowa.ucz2 import ucz2"
   ]
  },
  {
   "cell_type": "markdown",
   "source": [],
   "metadata": {
    "collapsed": false
   },
   "id": "c7ab15ada97c3c86"
  },
  {
   "cell_type": "markdown",
   "source": [
    "### Załadowanie danych uczących"
   ],
   "metadata": {
    "collapsed": false
   },
   "id": "4e678adebe2047e8"
  },
  {
   "cell_type": "markdown",
   "source": [
    "### Przykład XOR"
   ],
   "metadata": {
    "collapsed": false
   },
   "id": "ccbb1a3e30941849"
  },
  {
   "cell_type": "code",
   "outputs": [],
   "source": [
    "P = np.array([[0,0,1,1], \n",
    "              [0,1,0,1]] )  # Wejścia sieci\n",
    "\n",
    "T = np.array([0,1,1,0])   # żądane wyjście sieci\n"
   ],
   "metadata": {
    "collapsed": false,
    "ExecuteTime": {
     "end_time": "2024-05-26T20:52:05.535922Z",
     "start_time": "2024-05-26T20:52:05.533470Z"
    }
   },
   "id": "a93fb0394bcebb6d",
   "execution_count": 2
  },
  {
   "cell_type": "markdown",
   "source": [
    "### Inicjalizacja macierzy wag dla każdej z warstw"
   ],
   "metadata": {
    "collapsed": false
   },
   "id": "5a6c12e1df0b7d67"
  },
  {
   "cell_type": "code",
   "outputs": [
    {
     "name": "stdout",
     "output_type": "stream",
     "text": [
      "[[ 0.07806545  0.02564814 -0.09125117]\n",
      " [ 0.01695056 -0.01547582 -0.03453875]]\n",
      "[[-0.05809719 -0.09542025  0.0026547 ]]\n",
      "[0 0]\n"
     ]
    }
   ],
   "source": [
    "W1_matrix, W2_matrix = init2(2, 2, 1)\n",
    "\n",
    "print(W1_matrix)\n",
    "print(W2_matrix)\n",
    "print(P[:,0])"
   ],
   "metadata": {
    "collapsed": false,
    "ExecuteTime": {
     "end_time": "2024-05-26T20:52:05.540437Z",
     "start_time": "2024-05-26T20:52:05.536695Z"
    }
   },
   "id": "b2bb9066ed596221",
   "execution_count": 3
  },
  {
   "cell_type": "code",
   "outputs": [
    {
     "name": "stdout",
     "output_type": "stream",
     "text": [
      "[1. 1.]\n"
     ]
    }
   ],
   "source": [
    "W1 = np.array([[0.05, -0.21, -1],\n",
    "             [-0.61, 0.01,  -1]])\n",
    "    \n",
    "X1 = [0, 0, -1]\n",
    "\n",
    "print(np.dot(W1,X1))"
   ],
   "metadata": {
    "collapsed": false,
    "ExecuteTime": {
     "end_time": "2024-05-26T20:52:05.544140Z",
     "start_time": "2024-05-26T20:52:05.541242Z"
    }
   },
   "id": "22a2ef594bd3e3ec",
   "execution_count": 4
  },
  {
   "cell_type": "code",
   "outputs": [
    {
     "name": "stdout",
     "output_type": "stream",
     "text": [
      "[ 0.61212558  0.54306646 -1.        ]\n",
      "[0.38931677]\n",
      "[ 0.6421014   0.52381063 -1.        ]\n",
      "[0.38943076]\n",
      "[ 0.69984987  0.5640085  -1.        ]\n",
      "[0.38091668]\n",
      "[ 0.72607993  0.54489562 -1.        ]\n",
      "[0.38127031]\n"
     ]
    }
   ],
   "source": [
    "Y1, Y2a = calculate_outputs(W1_matrix, W2_matrix, P[:, 0] )\n",
    "print(Y1)\n",
    "print(Y2a)\n",
    "Y1, Y2a = calculate_outputs(W1_matrix, W2_matrix, P[:, 1] )\n",
    "print(Y1)\n",
    "print(Y2a)\n",
    "Y1, Y2a = calculate_outputs(W1_matrix, W2_matrix, P[:, 2] )\n",
    "print(Y1)\n",
    "print(Y2a)\n",
    "Y1, Y2a = calculate_outputs(W1_matrix, W2_matrix, P[:, 3] )\n",
    "print(Y1)\n",
    "print(Y2a)"
   ],
   "metadata": {
    "collapsed": false,
    "ExecuteTime": {
     "end_time": "2024-05-26T20:52:05.549371Z",
     "start_time": "2024-05-26T20:52:05.545305Z"
    }
   },
   "id": "2deff1553130198d",
   "execution_count": 5
  },
  {
   "cell_type": "code",
   "outputs": [],
   "source": [
    "W1po, W2po, mse_history = ucz2(W1_matrix, W2_matrix, P, T, 20000, 1e-9)"
   ],
   "metadata": {
    "collapsed": false,
    "ExecuteTime": {
     "end_time": "2024-05-26T20:52:07.037930Z",
     "start_time": "2024-05-26T20:52:05.550142Z"
    }
   },
   "id": "eeaff3966268067d",
   "execution_count": 6
  },
  {
   "cell_type": "code",
   "outputs": [
    {
     "data": {
      "text/plain": "<Figure size 640x480 with 1 Axes>",
      "image/png": "[encoded data removed]"
     },
     "metadata": {},
     "output_type": "display_data"
    }
   ],
   "source": [
    "import matplotlib.pyplot as plt\n",
    "\n",
    "plt.plot(mse_history)\n",
    "plt.show()"
   ],
   "metadata": {
    "collapsed": false,
    "ExecuteTime": {
     "end_time": "2024-05-26T20:52:07.384453Z",
     "start_time": "2024-05-26T20:52:07.038864Z"
    }
   },
   "id": "c8c70b6d8678afbe",
   "execution_count": 7
  },
  {
   "cell_type": "code",
   "outputs": [
    {
     "name": "stdout",
     "output_type": "stream",
     "text": [
      "dla wejścia XOR(0,0) = [0.00966324]   (oczekiwane 0)\n",
      "dla wejścia XOR(0,1) = [0.99017681]   (oczekiwane 1)\n",
      "dla wejścia XOR(1,0) = [0.99005791]   (oczekiwane 1)\n",
      "dla wejścia XOR(1,1) = [0.01239909]   (oczekiwane 0)\n"
     ]
    }
   ],
   "source": [
    "_, Y2a = calculate_outputs(W1po, W2po, P[:, 0] )\n",
    "print(f\"dla wejścia XOR(0,0) = {Y2a}   (oczekiwane 0)\")\n",
    "_, Y2a = calculate_outputs(W1po, W2po, P[:, 1] )\n",
    "print(f\"dla wejścia XOR(0,1) = {Y2a}   (oczekiwane 1)\")\n",
    "_, Y2a = calculate_outputs(W1po, W2po, P[:, 2] )\n",
    "print(f\"dla wejścia XOR(1,0) = {Y2a}   (oczekiwane 1)\")\n",
    "_, Y2a = calculate_outputs(W1po, W2po, P[:, 3] )\n",
    "print(f\"dla wejścia XOR(1,1) = {Y2a}   (oczekiwane 0)\")"
   ],
   "metadata": {
    "collapsed": false,
    "ExecuteTime": {
     "end_time": "2024-05-26T20:52:08.181546Z",
     "start_time": "2024-05-26T20:52:08.174052Z"
    }
   },
   "id": "516a0f2317ac5c30",
   "execution_count": 8
  },
  {
   "cell_type": "code",
   "outputs": [],
   "source": [
    "\n"
   ],
   "metadata": {
    "collapsed": false,
    "ExecuteTime": {
     "end_time": "2024-05-26T20:52:08.866136Z",
     "start_time": "2024-05-26T20:52:08.863100Z"
    }
   },
   "id": "5b3cc751c9948e11",
   "execution_count": 8
  },
  {
   "cell_type": "markdown",
   "source": [
    "### TITANIC"
   ],
   "metadata": {
    "collapsed": false
   },
   "id": "d17246d881af5a0a"
  },
  {
   "cell_type": "code",
   "outputs": [
    {
     "data": {
      "text/plain": "     PassengerId  Survived  Pclass  \\\n0              1         0       3   \n1              2         1       1   \n2              3         1       3   \n3              4         1       1   \n4              5         0       3   \n..           ...       ...     ...   \n886          887         0       2   \n887          888         1       1   \n888          889         0       3   \n889          890         1       1   \n890          891         0       3   \n\n                                                  Name     Sex   Age  SibSp  \\\n0                              Braund, Mr. Owen Harris    male  22.0      1   \n1    Cumings, Mrs. John Bradley (Florence Briggs Th...  female  38.0      1   \n2                               Heikkinen, Miss. Laina  female  26.0      0   \n3         Futrelle, Mrs. Jacques Heath (Lily May Peel)  female  35.0      1   \n4                             Allen, Mr. William Henry    male  35.0      0   \n..                                                 ...     ...   ...    ...   \n886                              Montvila, Rev. Juozas    male  27.0      0   \n887                       Graham, Miss. Margaret Edith  female  19.0      0   \n888           Johnston, Miss. Catherine Helen \"Carrie\"  female   NaN      1   \n889                              Behr, Mr. Karl Howell    male  26.0      0   \n890                                Dooley, Mr. Patrick    male  32.0      0   \n\n     Parch            Ticket     Fare Cabin Embarked  \n0        0         A/5 21171   7.2500   NaN        S  \n1        0          PC 17599  71.2833   C85        C  \n2        0  STON/O2. 3101282   7.9250   NaN        S  \n3        0            113803  53.1000  C123        S  \n4        0            373450   8.0500   NaN        S  \n..     ...               ...      ...   ...      ...  \n886      0            211536  13.0000   NaN        S  \n887      0            112053  30.0000   B42        S  \n888      2        W./C. 6607  23.4500   NaN        S  \n889      0            111369  30.0000  C148        C  \n890      0            370376   7.7500   NaN        Q  \n\n[891 rows x 12 columns]",
      "text/html": "<div>\n<style scoped>\n    .dataframe tbody tr th:only-of-type {\n        vertical-align: middle;\n    }\n\n    .dataframe tbody tr th {\n        vertical-align: top;\n    }\n\n    .dataframe thead th {\n        text-align: right;\n    }\n</style>\n<table border=\"1\" class=\"dataframe\">\n  <thead>\n    <tr style=\"text-align: right;\">\n      <th></th>\n      <th>PassengerId</th>\n      <th>Survived</th>\n      <th>Pclass</th>\n      <th>Name</th>\n      <th>Sex</th>\n      <th>Age</th>\n      <th>SibSp</th>\n      <th>Parch</th>\n      <th>Ticket</th>\n      <th>Fare</th>\n      <th>Cabin</th>\n      <th>Embarked</th>\n    </tr>\n  </thead>\n  <tbody>\n    <tr>\n      <th>0</th>\n      <td>1</td>\n      <td>0</td>\n      <td>3</td>\n      <td>Braund, Mr. Owen Harris</td>\n      <td>male</td>\n      <td>22.0</td>\n      <td>1</td>\n      <td>0</td>\n      <td>A/5 21171</td>\n      <td>7.2500</td>\n      <td>NaN</td>\n      <td>S</td>\n    </tr>\n    <tr>\n      <th>1</th>\n      <td>2</td>\n      <td>1</td>\n      <td>1</td>\n      <td>Cumings, Mrs. John Bradley (Florence Briggs Th...</td>\n      <td>female</td>\n      <td>38.0</td>\n      <td>1</td>\n      <td>0</td>\n      <td>PC 17599</td>\n      <td>71.2833</td>\n      <td>C85</td>\n      <td>C</td>\n    </tr>\n    <tr>\n      <th>2</th>\n      <td>3</td>\n      <td>1</td>\n      <td>3</td>\n      <td>Heikkinen, Miss. Laina</td>\n      <td>female</td>\n      <td>26.0</td>\n      <td>0</td>\n      <td>0</td>\n      <td>STON/O2. 3101282</td>\n      <td>7.9250</td>\n      <td>NaN</td>\n      <td>S</td>\n    </tr>\n    <tr>\n      <th>3</th>\n      <td>4</td>\n      <td>1</td>\n      <td>1</td>\n      <td>Futrelle, Mrs. Jacques Heath (Lily May Peel)</td>\n      <td>female</td>\n      <td>35.0</td>\n      <td>1</td>\n      <td>0</td>\n      <td>113803</td>\n      <td>53.1000</td>\n      <td>C123</td>\n      <td>S</td>\n    </tr>\n    <tr>\n      <th>4</th>\n      <td>5</td>\n      <td>0</td>\n      <td>3</td>\n      <td>Allen, Mr. William Henry</td>\n      <td>male</td>\n      <td>35.0</td>\n      <td>0</td>\n      <td>0</td>\n      <td>373450</td>\n      <td>8.0500</td>\n      <td>NaN</td>\n      <td>S</td>\n    </tr>\n    <tr>\n      <th>...</th>\n      <td>...</td>\n      <td>...</td>\n      <td>...</td>\n      <td>...</td>\n      <td>...</td>\n      <td>...</td>\n      <td>...</td>\n      <td>...</td>\n      <td>...</td>\n      <td>...</td>\n      <td>...</td>\n      <td>...</td>\n    </tr>\n    <tr>\n      <th>886</th>\n      <td>887</td>\n      <td>0</td>\n      <td>2</td>\n      <td>Montvila, Rev. Juozas</td>\n      <td>male</td>\n      <td>27.0</td>\n      <td>0</td>\n      <td>0</td>\n      <td>211536</td>\n      <td>13.0000</td>\n      <td>NaN</td>\n      <td>S</td>\n    </tr>\n    <tr>\n      <th>887</th>\n      <td>888</td>\n      <td>1</td>\n      <td>1</td>\n      <td>Graham, Miss. Margaret Edith</td>\n      <td>female</td>\n      <td>19.0</td>\n      <td>0</td>\n      <td>0</td>\n      <td>112053</td>\n      <td>30.0000</td>\n      <td>B42</td>\n      <td>S</td>\n    </tr>\n    <tr>\n      <th>888</th>\n      <td>889</td>\n      <td>0</td>\n      <td>3</td>\n      <td>Johnston, Miss. Catherine Helen \"Carrie\"</td>\n      <td>female</td>\n      <td>NaN</td>\n      <td>1</td>\n      <td>2</td>\n      <td>W./C. 6607</td>\n      <td>23.4500</td>\n      <td>NaN</td>\n      <td>S</td>\n    </tr>\n    <tr>\n      <th>889</th>\n      <td>890</td>\n      <td>1</td>\n      <td>1</td>\n      <td>Behr, Mr. Karl Howell</td>\n      <td>male</td>\n      <td>26.0</td>\n      <td>0</td>\n      <td>0</td>\n      <td>111369</td>\n      <td>30.0000</td>\n      <td>C148</td>\n      <td>C</td>\n    </tr>\n    <tr>\n      <th>890</th>\n      <td>891</td>\n      <td>0</td>\n      <td>3</td>\n      <td>Dooley, Mr. Patrick</td>\n      <td>male</td>\n      <td>32.0</td>\n      <td>0</td>\n      <td>0</td>\n      <td>370376</td>\n      <td>7.7500</td>\n      <td>NaN</td>\n      <td>Q</td>\n    </tr>\n  </tbody>\n</table>\n<p>891 rows × 12 columns</p>\n</div>"
     },
     "execution_count": 9,
     "metadata": {},
     "output_type": "execute_result"
    }
   ],
   "source": [
    "# TITANIC\n",
    "import pandas as pd\n",
    "pd.read_csv(\"../titanic/train.csv\")"
   ],
   "metadata": {
    "collapsed": false,
    "ExecuteTime": {
     "end_time": "2024-05-26T20:52:10.091874Z",
     "start_time": "2024-05-26T20:52:10.076223Z"
    }
   },
   "id": "3881349af58ad5aa",
   "execution_count": 9
  },
  {
   "cell_type": "code",
   "outputs": [],
   "source": [
    "titanic_data = pd.read_csv(\"../titanic/train.csv\")"
   ],
   "metadata": {
    "collapsed": false,
    "ExecuteTime": {
     "end_time": "2024-05-26T20:52:10.730302Z",
     "start_time": "2024-05-26T20:52:10.725888Z"
    }
   },
   "id": "a14c12c5e4973bc2",
   "execution_count": 10
  },
  {
   "cell_type": "code",
   "outputs": [],
   "source": [
    "target = 'Survived'\n",
    "\n",
    "features = ['Pclass', 'Sex', 'Age', 'SibSp', 'Parch', 'Fare']"
   ],
   "metadata": {
    "collapsed": false,
    "ExecuteTime": {
     "end_time": "2024-05-26T20:52:11.054633Z",
     "start_time": "2024-05-26T20:52:11.052035Z"
    }
   },
   "id": "969a669e40c35cca",
   "execution_count": 11
  },
  {
   "cell_type": "code",
   "outputs": [],
   "source": [
    "titanic_data['Sex'] = titanic_data['Sex'].map({'male':0, 'female':1})\n",
    "titanic_data['Age'].fillna(titanic_data['Age'].mean(), inplace = True)\n",
    "titanic_data['Fare'].fillna(titanic_data['Fare'].mean(), inplace=True)\n"
   ],
   "metadata": {
    "collapsed": false,
    "ExecuteTime": {
     "end_time": "2024-05-26T20:52:11.251747Z",
     "start_time": "2024-05-26T20:52:11.247413Z"
    }
   },
   "id": "bc574ed0293e41ee",
   "execution_count": 12
  },
  {
   "cell_type": "code",
   "outputs": [
    {
     "data": {
      "text/plain": "     PassengerId  Survived  Pclass  \\\n0              1         0       3   \n1              2         1       1   \n2              3         1       3   \n3              4         1       1   \n4              5         0       3   \n..           ...       ...     ...   \n886          887         0       2   \n887          888         1       1   \n888          889         0       3   \n889          890         1       1   \n890          891         0       3   \n\n                                                  Name  Sex        Age  SibSp  \\\n0                              Braund, Mr. Owen Harris    0  22.000000      1   \n1    Cumings, Mrs. John Bradley (Florence Briggs Th...    1  38.000000      1   \n2                               Heikkinen, Miss. Laina    1  26.000000      0   \n3         Futrelle, Mrs. Jacques Heath (Lily May Peel)    1  35.000000      1   \n4                             Allen, Mr. William Henry    0  35.000000      0   \n..                                                 ...  ...        ...    ...   \n886                              Montvila, Rev. Juozas    0  27.000000      0   \n887                       Graham, Miss. Margaret Edith    1  19.000000      0   \n888           Johnston, Miss. Catherine Helen \"Carrie\"    1  29.699118      1   \n889                              Behr, Mr. Karl Howell    0  26.000000      0   \n890                                Dooley, Mr. Patrick    0  32.000000      0   \n\n     Parch            Ticket     Fare Cabin Embarked  \n0        0         A/5 21171   7.2500   NaN        S  \n1        0          PC 17599  71.2833   C85        C  \n2        0  STON/O2. 3101282   7.9250   NaN        S  \n3        0            113803  53.1000  C123        S  \n4        0            373450   8.0500   NaN        S  \n..     ...               ...      ...   ...      ...  \n886      0            211536  13.0000   NaN        S  \n887      0            112053  30.0000   B42        S  \n888      2        W./C. 6607  23.4500   NaN        S  \n889      0            111369  30.0000  C148        C  \n890      0            370376   7.7500   NaN        Q  \n\n[891 rows x 12 columns]",
      "text/html": "<div>\n<style scoped>\n    .dataframe tbody tr th:only-of-type {\n        vertical-align: middle;\n    }\n\n    .dataframe tbody tr th {\n        vertical-align: top;\n    }\n\n    .dataframe thead th {\n        text-align: right;\n    }\n</style>\n<table border=\"1\" class=\"dataframe\">\n  <thead>\n    <tr style=\"text-align: right;\">\n      <th></th>\n      <th>PassengerId</th>\n      <th>Survived</th>\n      <th>Pclass</th>\n      <th>Name</th>\n      <th>Sex</th>\n      <th>Age</th>\n      <th>SibSp</th>\n      <th>Parch</th>\n      <th>Ticket</th>\n      <th>Fare</th>\n      <th>Cabin</th>\n      <th>Embarked</th>\n    </tr>\n  </thead>\n  <tbody>\n    <tr>\n      <th>0</th>\n      <td>1</td>\n      <td>0</td>\n      <td>3</td>\n      <td>Braund, Mr. Owen Harris</td>\n      <td>0</td>\n      <td>22.000000</td>\n      <td>1</td>\n      <td>0</td>\n      <td>A/5 21171</td>\n      <td>7.2500</td>\n      <td>NaN</td>\n      <td>S</td>\n    </tr>\n    <tr>\n      <th>1</th>\n      <td>2</td>\n      <td>1</td>\n      <td>1</td>\n      <td>Cumings, Mrs. John Bradley (Florence Briggs Th...</td>\n      <td>1</td>\n      <td>38.000000</td>\n      <td>1</td>\n      <td>0</td>\n      <td>PC 17599</td>\n      <td>71.2833</td>\n      <td>C85</td>\n      <td>C</td>\n    </tr>\n    <tr>\n      <th>2</th>\n      <td>3</td>\n      <td>1</td>\n      <td>3</td>\n      <td>Heikkinen, Miss. Laina</td>\n      <td>1</td>\n      <td>26.000000</td>\n      <td>0</td>\n      <td>0</td>\n      <td>STON/O2. 3101282</td>\n      <td>7.9250</td>\n      <td>NaN</td>\n      <td>S</td>\n    </tr>\n    <tr>\n      <th>3</th>\n      <td>4</td>\n      <td>1</td>\n      <td>1</td>\n      <td>Futrelle, Mrs. Jacques Heath (Lily May Peel)</td>\n      <td>1</td>\n      <td>35.000000</td>\n      <td>1</td>\n      <td>0</td>\n      <td>113803</td>\n      <td>53.1000</td>\n      <td>C123</td>\n      <td>S</td>\n    </tr>\n    <tr>\n      <th>4</th>\n      <td>5</td>\n      <td>0</td>\n      <td>3</td>\n      <td>Allen, Mr. William Henry</td>\n      <td>0</td>\n      <td>35.000000</td>\n      <td>0</td>\n      <td>0</td>\n      <td>373450</td>\n      <td>8.0500</td>\n      <td>NaN</td>\n      <td>S</td>\n    </tr>\n    <tr>\n      <th>...</th>\n      <td>...</td>\n      <td>...</td>\n      <td>...</td>\n      <td>...</td>\n      <td>...</td>\n      <td>...</td>\n      <td>...</td>\n      <td>...</td>\n      <td>...</td>\n      <td>...</td>\n      <td>...</td>\n      <td>...</td>\n    </tr>\n    <tr>\n      <th>886</th>\n      <td>887</td>\n      <td>0</td>\n      <td>2</td>\n      <td>Montvila, Rev. Juozas</td>\n      <td>0</td>\n      <td>27.000000</td>\n      <td>0</td>\n      <td>0</td>\n      <td>211536</td>\n      <td>13.0000</td>\n      <td>NaN</td>\n      <td>S</td>\n    </tr>\n    <tr>\n      <th>887</th>\n      <td>888</td>\n      <td>1</td>\n      <td>1</td>\n      <td>Graham, Miss. Margaret Edith</td>\n      <td>1</td>\n      <td>19.000000</td>\n      <td>0</td>\n      <td>0</td>\n      <td>112053</td>\n      <td>30.0000</td>\n      <td>B42</td>\n      <td>S</td>\n    </tr>\n    <tr>\n      <th>888</th>\n      <td>889</td>\n      <td>0</td>\n      <td>3</td>\n      <td>Johnston, Miss. Catherine Helen \"Carrie\"</td>\n      <td>1</td>\n      <td>29.699118</td>\n      <td>1</td>\n      <td>2</td>\n      <td>W./C. 6607</td>\n      <td>23.4500</td>\n      <td>NaN</td>\n      <td>S</td>\n    </tr>\n    <tr>\n      <th>889</th>\n      <td>890</td>\n      <td>1</td>\n      <td>1</td>\n      <td>Behr, Mr. Karl Howell</td>\n      <td>0</td>\n      <td>26.000000</td>\n      <td>0</td>\n      <td>0</td>\n      <td>111369</td>\n      <td>30.0000</td>\n      <td>C148</td>\n      <td>C</td>\n    </tr>\n    <tr>\n      <th>890</th>\n      <td>891</td>\n      <td>0</td>\n      <td>3</td>\n      <td>Dooley, Mr. Patrick</td>\n      <td>0</td>\n      <td>32.000000</td>\n      <td>0</td>\n      <td>0</td>\n      <td>370376</td>\n      <td>7.7500</td>\n      <td>NaN</td>\n      <td>Q</td>\n    </tr>\n  </tbody>\n</table>\n<p>891 rows × 12 columns</p>\n</div>"
     },
     "execution_count": 13,
     "metadata": {},
     "output_type": "execute_result"
    }
   ],
   "source": [
    "titanic_data"
   ],
   "metadata": {
    "collapsed": false,
    "ExecuteTime": {
     "end_time": "2024-05-26T20:52:11.660421Z",
     "start_time": "2024-05-26T20:52:11.650715Z"
    }
   },
   "id": "a4611498cfa1f8ee",
   "execution_count": 13
  },
  {
   "cell_type": "code",
   "outputs": [],
   "source": [
    "from sklearn.preprocessing import StandardScaler\n",
    "X = titanic_data[features].values.T\n",
    "X = StandardScaler().fit_transform(X)\n",
    "y = titanic_data[target].values\n"
   ],
   "metadata": {
    "collapsed": false,
    "ExecuteTime": {
     "end_time": "2024-05-26T21:13:50.382880Z",
     "start_time": "2024-05-26T21:13:50.377605Z"
    }
   },
   "id": "ea2db7a3a9399677",
   "execution_count": 207
  },
  {
   "cell_type": "code",
   "outputs": [
    {
     "name": "stdout",
     "output_type": "stream",
     "text": [
      "[-0.32708363 -0.71314954  2.11800053 -0.5844609  -0.71314954  0.21984309]\n",
      "0\n",
      "891\n"
     ]
    }
   ],
   "source": [
    "print(X[:,0])\n",
    "print(y[0])\n",
    "print(len(y))"
   ],
   "metadata": {
    "collapsed": false,
    "ExecuteTime": {
     "end_time": "2024-05-26T21:13:51.389451Z",
     "start_time": "2024-05-26T21:13:51.385779Z"
    }
   },
   "id": "194fee6b07657d76",
   "execution_count": 208
  },
  {
   "cell_type": "code",
   "outputs": [],
   "source": [
    "W1_matrix_titanic, W2_matrix_titanic = init2(6, 50, 1)"
   ],
   "metadata": {
    "collapsed": false,
    "ExecuteTime": {
     "end_time": "2024-05-26T21:16:50.236338Z",
     "start_time": "2024-05-26T21:16:50.231822Z"
    }
   },
   "id": "2e3e0fee30a3e46b",
   "execution_count": 225
  },
  {
   "cell_type": "code",
   "outputs": [],
   "source": [
    "W1po, W2po, mse_history = ucz2(W1_matrix_titanic, W2_matrix_titanic, X, y, 200000, 0)"
   ],
   "metadata": {
    "collapsed": false,
    "ExecuteTime": {
     "end_time": "2024-05-26T21:17:06.051567Z",
     "start_time": "2024-05-26T21:16:50.633689Z"
    }
   },
   "id": "ccc62272903605",
   "execution_count": 226
  },
  {
   "cell_type": "code",
   "outputs": [
    {
     "data": {
      "text/plain": "<Figure size 640x480 with 1 Axes>",
      "image/png": "[encoded data removed]"
     },
     "metadata": {},
     "output_type": "display_data"
    }
   ],
   "source": [
    "import matplotlib.pyplot as plt\n",
    "\n",
    "plt.plot(mse_history)\n",
    "plt.show()"
   ],
   "metadata": {
    "collapsed": false,
    "ExecuteTime": {
     "end_time": "2024-05-26T21:16:29.399880Z",
     "start_time": "2024-05-26T21:16:28.874666Z"
    }
   },
   "id": "72a7d80a8368f3d3",
   "execution_count": 224
  },
  {
   "cell_type": "code",
   "outputs": [
    {
     "name": "stdout",
     "output_type": "stream",
     "text": [
      " wynik = [0.15016717]   (oczekiwane 0)\n",
      " wynik = [0.84506569]   (oczekiwane 1)\n"
     ]
    }
   ],
   "source": [
    "_, Y2a = calculate_outputs(W1po, W2po, X[:, 0] )\n",
    "print(f\" wynik = {Y2a}   (oczekiwane {y[0]})\")\n",
    "\n",
    "_, Y2a = calculate_outputs(W1po, W2po, X[:, 10] )\n",
    "print(f\" wynik = {Y2a}   (oczekiwane {y[10]})\")"
   ],
   "metadata": {
    "collapsed": false,
    "ExecuteTime": {
     "end_time": "2024-05-26T21:15:58.348037Z",
     "start_time": "2024-05-26T21:15:58.343897Z"
    }
   },
   "id": "38ef8d5a35e9e31e",
   "execution_count": 213
  },
  {
   "cell_type": "code",
   "outputs": [],
   "source": [
    "# Dane testowe\n",
    "dane_testowe = pd.read_csv(\"../titanic/test.csv\")\n"
   ],
   "metadata": {
    "collapsed": false,
    "ExecuteTime": {
     "end_time": "2024-05-26T21:16:01.102444Z",
     "start_time": "2024-05-26T21:16:01.095949Z"
    }
   },
   "id": "30ec0a85e19f197",
   "execution_count": 214
  },
  {
   "cell_type": "code",
   "outputs": [],
   "source": [
    "testy_x = dane_testowe[features].values.T\n",
    "testy_x = StandardScaler().fit_transform(X)"
   ],
   "metadata": {
    "collapsed": false,
    "ExecuteTime": {
     "end_time": "2024-05-26T21:16:01.324065Z",
     "start_time": "2024-05-26T21:16:01.318975Z"
    }
   },
   "id": "d06bf0494e8ed9ed",
   "execution_count": 215
  },
  {
   "cell_type": "code",
   "outputs": [
    {
     "name": "stdout",
     "output_type": "stream",
     "text": [
      "418\n"
     ]
    }
   ],
   "source": [
    "print(len(dane_testowe))"
   ],
   "metadata": {
    "collapsed": false,
    "ExecuteTime": {
     "end_time": "2024-05-26T21:16:01.569407Z",
     "start_time": "2024-05-26T21:16:01.566129Z"
    }
   },
   "id": "48021b0fb3f0484d",
   "execution_count": 216
  },
  {
   "cell_type": "code",
   "outputs": [],
   "source": [
    "# _, Y2a = calculate_outputs(W1po, W2po, testy_x[:, 14] )\n",
    "# print(f\"{dane_testowe['PassengerId'][14]}\")\n",
    "# print(f\" wynik (testowy zbior) = {Y2a} \")\n",
    "\n",
    "ID = []\n",
    "wynik = []\n",
    "for i in range(len(dane_testowe)):  #418 \n",
    "    _,out = calculate_outputs(W1po, W2po, testy_x[:,i])\n",
    "    wynik.append(out)\n",
    "    ID.append(dane_testowe['PassengerId'][i])\n",
    "    "
   ],
   "metadata": {
    "collapsed": false,
    "ExecuteTime": {
     "end_time": "2024-05-26T21:16:01.796716Z",
     "start_time": "2024-05-26T21:16:01.773906Z"
    }
   },
   "id": "7970ceac3a1960a9",
   "execution_count": 217
  },
  {
   "cell_type": "code",
   "outputs": [
    {
     "data": {
      "text/plain": "     PassengerId  Survived\n0            892         0\n1            893         1\n2            894         0\n3            895         0\n4            896         1\n..           ...       ...\n413         1305         0\n414         1306         1\n415         1307         0\n416         1308         0\n417         1309         0\n\n[418 rows x 2 columns]",
      "text/html": "<div>\n<style scoped>\n    .dataframe tbody tr th:only-of-type {\n        vertical-align: middle;\n    }\n\n    .dataframe tbody tr th {\n        vertical-align: top;\n    }\n\n    .dataframe thead th {\n        text-align: right;\n    }\n</style>\n<table border=\"1\" class=\"dataframe\">\n  <thead>\n    <tr style=\"text-align: right;\">\n      <th></th>\n      <th>PassengerId</th>\n      <th>Survived</th>\n    </tr>\n  </thead>\n  <tbody>\n    <tr>\n      <th>0</th>\n      <td>892</td>\n      <td>0</td>\n    </tr>\n    <tr>\n      <th>1</th>\n      <td>893</td>\n      <td>1</td>\n    </tr>\n    <tr>\n      <th>2</th>\n      <td>894</td>\n      <td>0</td>\n    </tr>\n    <tr>\n      <th>3</th>\n      <td>895</td>\n      <td>0</td>\n    </tr>\n    <tr>\n      <th>4</th>\n      <td>896</td>\n      <td>1</td>\n    </tr>\n    <tr>\n      <th>...</th>\n      <td>...</td>\n      <td>...</td>\n    </tr>\n    <tr>\n      <th>413</th>\n      <td>1305</td>\n      <td>0</td>\n    </tr>\n    <tr>\n      <th>414</th>\n      <td>1306</td>\n      <td>1</td>\n    </tr>\n    <tr>\n      <th>415</th>\n      <td>1307</td>\n      <td>0</td>\n    </tr>\n    <tr>\n      <th>416</th>\n      <td>1308</td>\n      <td>0</td>\n    </tr>\n    <tr>\n      <th>417</th>\n      <td>1309</td>\n      <td>0</td>\n    </tr>\n  </tbody>\n</table>\n<p>418 rows × 2 columns</p>\n</div>"
     },
     "execution_count": 218,
     "metadata": {},
     "output_type": "execute_result"
    }
   ],
   "source": [
    "gender_submission = pd.read_csv(\"../titanic/gender_submission.csv\")\n",
    "gender_submission"
   ],
   "metadata": {
    "collapsed": false,
    "ExecuteTime": {
     "end_time": "2024-05-26T21:16:01.980581Z",
     "start_time": "2024-05-26T21:16:01.969364Z"
    }
   },
   "id": "a1412dc8e55f1814",
   "execution_count": 218
  },
  {
   "cell_type": "code",
   "outputs": [
    {
     "name": "stdout",
     "output_type": "stream",
     "text": [
      "892\n",
      "892\n",
      "[0.15016717]\n",
      "0\n"
     ]
    }
   ],
   "source": [
    "print(ID[0])\n",
    "print(gender_submission['PassengerId'].iloc[0])\n",
    "\n",
    "print(wynik[0])\n",
    "print(gender_submission['Survived'][0])\n"
   ],
   "metadata": {
    "collapsed": false,
    "ExecuteTime": {
     "end_time": "2024-05-26T21:16:02.211034Z",
     "start_time": "2024-05-26T21:16:02.207655Z"
    }
   },
   "id": "6a527a454c9664f",
   "execution_count": 219
  },
  {
   "cell_type": "code",
   "outputs": [],
   "source": [
    "wynik = [1 if val >= 0.5 else 0 for val in wynik]"
   ],
   "metadata": {
    "collapsed": false,
    "ExecuteTime": {
     "end_time": "2024-05-26T21:16:02.674959Z",
     "start_time": "2024-05-26T21:16:02.671551Z"
    }
   },
   "id": "d7e9bde5ada073da",
   "execution_count": 220
  },
  {
   "cell_type": "code",
   "outputs": [],
   "source": [
    "good_predictions = 0\n",
    "bad_predictions = 0\n",
    "\n",
    "for i in range(418):\n",
    "    if(ID[i] == gender_submission['PassengerId'].iloc[i]):\n",
    "        if wynik[i] == gender_submission['Survived'].iloc[i]:\n",
    "            good_predictions += 1\n",
    "        else:\n",
    "            bad_predictions += 1\n",
    "        "
   ],
   "metadata": {
    "collapsed": false,
    "ExecuteTime": {
     "end_time": "2024-05-26T21:16:03.035316Z",
     "start_time": "2024-05-26T21:16:03.016533Z"
    }
   },
   "id": "2d55e6ef026661db",
   "execution_count": 221
  },
  {
   "cell_type": "code",
   "outputs": [
    {
     "name": "stdout",
     "output_type": "stream",
     "text": [
      "227\n",
      "191\n"
     ]
    }
   ],
   "source": [
    "print(good_predictions)\n",
    "print(bad_predictions)"
   ],
   "metadata": {
    "collapsed": false,
    "ExecuteTime": {
     "end_time": "2024-05-26T21:16:03.379167Z",
     "start_time": "2024-05-26T21:16:03.374824Z"
    }
   },
   "id": "5d55d79204ff228f",
   "execution_count": 222
  },
  {
   "cell_type": "code",
   "outputs": [],
   "source": [],
   "metadata": {
    "collapsed": false,
    "ExecuteTime": {
     "end_time": "2024-05-26T20:53:25.915060Z",
     "start_time": "2024-05-26T20:53:25.913407Z"
    }
   },
   "id": "5201491b08fd3b20",
   "execution_count": 54
  },
  {
   "cell_type": "code",
   "outputs": [],
   "source": [],
   "metadata": {
    "collapsed": false
   },
   "id": "a278a80f86bb9016"
  }
 ],
 "metadata": {
  "kernelspec": {
   "display_name": "Python 3",
   "language": "python",
   "name": "python3"
  },
  "language_info": {
   "codemirror_mode": {
    "name": "ipython",
    "version": 2
   },
   "file_extension": ".py",
   "mimetype": "text/x-python",
   "name": "python",
   "nbconvert_exporter": "python",
   "pygments_lexer": "ipython2",
   "version": "2.7.6"
  }
 },
 "nbformat": 4,
 "nbformat_minor": 5
}
