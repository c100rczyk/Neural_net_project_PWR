{
 "cells": [
  {
   "cell_type": "code",
   "execution_count": 1,
   "id": "initial_id",
   "metadata": {
    "collapsed": true,
    "ExecuteTime": {
     "end_time": "2024-04-14T10:01:50.646454Z",
     "start_time": "2024-04-14T10:01:50.399125Z"
    }
   },
   "outputs": [
    {
     "name": "stdout",
     "output_type": "stream",
     "text": [
      "[[ 4.    0.01  0.01 -1.   -1.5 ]\n",
      " [ 2.   -1.    2.    2.5   2.  ]\n",
      " [-1.    3.5   0.01 -2.    1.5 ]]\n",
      "[[1. 0. 0.]\n",
      " [0. 1. 0.]\n",
      " [0. 0. 1.]]\n"
     ]
    }
   ],
   "source": [
    "# Creating network, inicialization of parameters\n",
    "# człowiek , ryba , ptak\n",
    "\n",
    "import pandas as pd\n",
    "import numpy as np\n",
    "from Siec_plytka.init import init1\n",
    "from Siec_plytka.dzialaj1 import calculate1, calculate2\n",
    "from Siec_plytka.ucz1 import ucz1\n",
    "\n",
    "examples = pd.read_csv('dane_uczace.csv')\n",
    "examples = np.array(examples)\n",
    "\n",
    "x_train = examples[:, :5]\n",
    "y_train = examples[:, 5:]\n",
    "print(x_train)\n",
    "print(y_train)\n",
    "\n"
   ]
  },
  {
   "cell_type": "code",
   "outputs": [
    {
     "name": "stdout",
     "output_type": "stream",
     "text": [
      "Tak wyglądają zainicjalizowane wagi\n",
      "Wagi początkowe:\n",
      " [[ 0.09633676  0.08027266 -0.01991573  0.0030517   0.02890641]\n",
      " [ 0.05039148  0.03789566  0.06743146  0.07586847 -0.08307292]\n",
      " [-0.01659014 -0.0880497  -0.05415032 -0.01820543  0.06358113]]\n",
      "Wagi wytrenowane:\n",
      " [[0.81329757 0.79723347 0.69704508 0.72001251 0.74586722]\n",
      " [0.25579466 0.24329884 0.27283464 0.28127165 0.12233026]\n",
      " [0.79633255 0.724873   0.75877238 0.79471727 0.87650383]]\n",
      "---------------------------------\n",
      "Teraz przewiduję:\n",
      "W optimal:\n",
      " [[0.81329757 0.79723347 0.69704508 0.72001251 0.74586722]\n",
      " [0.25579466 0.24329884 0.27283464 0.28127165 0.12233026]\n",
      " [0.79633255 0.724873   0.75877238 0.79471727 0.87650383]]\n",
      "x_train:\n",
      "  [[ 4.    0.01  0.01 -1.   -1.5 ]\n",
      " [ 2.   -1.    2.    2.5   2.  ]\n",
      " [-1.    3.5   0.01 -2.    1.5 ]]\n",
      "[ 4.    0.01  0.01 -1.   -1.5 ]\n",
      "TEST: [1.42931972 0.56357295 1.09069365] \n",
      "pochodne: [0.0039315  0.26594613 0.02122501]\n",
      "TEST: [5.51521753 1.76179941 6.12513771] \n",
      "pochodne: [5.28244115e-12 7.46691921e-04 2.49800181e-13]\n",
      "TEST: [1.66276585 0.21943173 1.47363187] \n",
      "pochodne: [0.00122492 0.93818127 0.00315116]\n",
      "(array([0.99975496, 0.74972734, 0.99936937]), array([0.00122492, 0.93818127, 0.00315116]))\n",
      "---------------------------------\n",
      "x_test\n",
      "[2.   0.2  0.3  0.1  0.05]\n",
      "TEST: [2.10444996 0.67634317 2.08856834] \n",
      "pochodne: [1.34645417e-04 1.58956235e-01 1.45772687e-04]\n",
      "(array([0.99997307, 0.9671282 , 0.99997084]), array([1.34645417e-04, 1.58956235e-01, 1.45772687e-04]))\n"
     ]
    }
   ],
   "source": [
    "W_matrix = init1(5,3)  # 5 numbers in input, 3 neurons in layer1 (3 outputs)\n",
    "print(\"Tak wyglądają zainicjalizowane wagi\")\n",
    "print(f\"Wagi początkowe:\\n {W_matrix}\")\n",
    "#result1 = calculate1(W_matrix, x_train[0])\n",
    "#print(calculate1(W_matrix,x_train))\n",
    "\n",
    "W_optimal = ucz1(W_matrix, x_train, y_train, 1000)\n",
    "\n",
    "print(f\"Wagi wytrenowane:\\n {W_optimal}\")\n",
    "\n",
    "print(\"---------------------------------\")\n",
    "print(\"Teraz przewiduję:\")\n",
    "print(f\"W optimal:\\n {W_optimal}\")\n",
    "print(f\"x_train:\\n  {x_train}\")\n",
    "przewidywania = calculate2(W_optimal, x_train)\n",
    "print(przewidywania)\n",
    "\n",
    "print(\"---------------------------------\")\n",
    "print(\"x_test\")\n",
    "x_test = np.array([[2,0.2,0.3,0.1,0.05]])\n",
    "\n",
    "przewidywania = calculate2(W_optimal, x_test)\n",
    "print(przewidywania)"
   ],
   "metadata": {
    "collapsed": false,
    "ExecuteTime": {
     "end_time": "2024-04-14T10:05:28.026996Z",
     "start_time": "2024-04-14T10:05:28.002101Z"
    }
   },
   "id": "932b89ad7541e7fd",
   "execution_count": 4
  },
  {
   "cell_type": "code",
   "outputs": [],
   "source": [],
   "metadata": {
    "collapsed": false
   },
   "id": "27e7af35cf1a0857"
  }
 ],
 "metadata": {
  "kernelspec": {
   "display_name": "Python 3",
   "language": "python",
   "name": "python3"
  },
  "language_info": {
   "codemirror_mode": {
    "name": "ipython",
    "version": 2
   },
   "file_extension": ".py",
   "mimetype": "text/x-python",
   "name": "python",
   "nbconvert_exporter": "python",
   "pygments_lexer": "ipython2",
   "version": "2.7.6"
  }
 },
 "nbformat": 4,
 "nbformat_minor": 5
}
