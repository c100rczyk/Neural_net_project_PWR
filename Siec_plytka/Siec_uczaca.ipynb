{
 "cells": [
  {
   "cell_type": "code",
   "execution_count": 1,
   "id": "initial_id",
   "metadata": {
    "collapsed": true,
    "ExecuteTime": {
     "end_time": "2024-04-13T10:01:02.846046Z",
     "start_time": "2024-04-13T10:01:02.567777Z"
    }
   },
   "outputs": [
    {
     "name": "stdout",
     "output_type": "stream",
     "text": [
      "[[ 4.    2.   -1.  ]\n",
      " [ 0.01 -1.    3.5 ]\n",
      " [ 0.01  2.    0.01]\n",
      " [-1.    2.5  -2.  ]\n",
      " [-1.5   2.    1.5 ]]\n",
      "[[1. 0. 0.]\n",
      " [0. 1. 0.]\n",
      " [0. 0. 1.]]\n"
     ]
    }
   ],
   "source": [
    "# Creating network, inicialization of parameters\n",
    "# człowiek , ryba , ptak\n",
    "\n",
    "import pandas as pd\n",
    "import numpy as np\n",
    "from Siec_plytka.init import init1\n",
    "from Siec_plytka.dzialaj1 import calculate1\n",
    "from Siec_plytka.ucz1 import ucz1\n",
    "\n",
    "examples = pd.read_csv('dane_uczace.csv')\n",
    "examples = np.array(examples)\n",
    "\n",
    "x_train = examples[:, :5].T\n",
    "y_train = examples[:, 5:]\n",
    "print(x_train)\n",
    "print(y_train)\n"
   ]
  },
  {
   "cell_type": "code",
   "outputs": [
    {
     "name": "stdout",
     "output_type": "stream",
     "text": [
      "[[-0.03235869 -0.0145582   0.09436552  0.05716442 -0.01039387]\n",
      " [ 0.0434993  -0.09361154  0.02784976  0.00966184  0.04880119]\n",
      " [-0.03005568  0.08517407  0.03111865 -0.0201854   0.09244069]]\n",
      "[[1.04842155 0.83981968 1.09419174]\n",
      " [1.18816735 0.61286879 0.70583154]\n",
      " [0.89535397 1.22960857 0.33949919]]\n",
      "(array([[0.29921232, 0.78641939, 0.32347337],\n",
      "       [0.6112049 , 0.85696813, 0.17010048],\n",
      "       [0.23367462, 0.56386146, 0.92673195]]), array([[1.04842155, 0.83981968, 1.09419174],\n",
      "       [1.18816735, 0.61286879, 0.70583154],\n",
      "       [0.89535397, 1.22960857, 0.33949919]]))\n",
      "liczba cech wejściowych ucz1: 3 \n"
     ]
    },
    {
     "ename": "ValueError",
     "evalue": "shapes (3,5) and (3,) not aligned: 5 (dim 1) != 3 (dim 0)",
     "output_type": "error",
     "traceback": [
      "\u001B[0;31m---------------------------------------------------------------------------\u001B[0m",
      "\u001B[0;31mValueError\u001B[0m                                Traceback (most recent call last)",
      "Cell \u001B[0;32mIn[2], line 6\u001B[0m\n\u001B[1;32m      3\u001B[0m \u001B[38;5;66;03m#result1 = calculate1(W_matrix, x_train[0])\u001B[39;00m\n\u001B[1;32m      4\u001B[0m \u001B[38;5;28mprint\u001B[39m(calculate1(W_matrix,x_train))\n\u001B[0;32m----> 6\u001B[0m W_optimal \u001B[38;5;241m=\u001B[39m ucz1(W_matrix, x_train, y_train, \u001B[38;5;241m10\u001B[39m)\n\u001B[1;32m      7\u001B[0m \u001B[38;5;28mprint\u001B[39m(W_optimal)\n\u001B[1;32m      8\u001B[0m \u001B[38;5;28mprint\u001B[39m(calculate1(W_optimal,x_train))\n",
      "File \u001B[0;32m~/VSCode/6sem/Sieci_neuronowe/Neural_net_project_PWR/Siec_plytka/ucz1.py:25\u001B[0m, in \u001B[0;36mucz1\u001B[0;34m(Wprzed, inputs, T, n)\u001B[0m\n\u001B[1;32m     21\u001B[0m \u001B[38;5;28;01mfor\u001B[39;00m i \u001B[38;5;129;01min\u001B[39;00m \u001B[38;5;28mrange\u001B[39m(n):\n\u001B[1;32m     23\u001B[0m     random_sample \u001B[38;5;241m=\u001B[39m np\u001B[38;5;241m.\u001B[39mrandom\u001B[38;5;241m.\u001B[39mrandint(\u001B[38;5;241m0\u001B[39m,m)\n\u001B[0;32m---> 25\u001B[0m     result, derivative \u001B[38;5;241m=\u001B[39m calculate1(w_init, inputs[random_sample])\n\u001B[1;32m     26\u001B[0m     cost \u001B[38;5;241m=\u001B[39m T[random_sample] \u001B[38;5;241m-\u001B[39m result\n\u001B[1;32m     29\u001B[0m     \u001B[38;5;66;03m#derivative of cost funciton with respect to W\u001B[39;00m\n\u001B[1;32m     30\u001B[0m     \u001B[38;5;66;03m#dj_dW = 1/m * np.sum(derivative)        #_________\u001B[39;00m\n",
      "File \u001B[0;32m~/VSCode/6sem/Sieci_neuronowe/Neural_net_project_PWR/Siec_plytka/dzialaj1.py:12\u001B[0m, in \u001B[0;36mcalculate1\u001B[0;34m(W, X)\u001B[0m\n\u001B[1;32m      3\u001B[0m \u001B[38;5;28;01mdef\u001B[39;00m \u001B[38;5;21mcalculate1\u001B[39m(W, X):\n\u001B[1;32m      4\u001B[0m \u001B[38;5;250m    \u001B[39m\u001B[38;5;124;03m\"\"\"\u001B[39;00m\n\u001B[1;32m      5\u001B[0m \u001B[38;5;124;03m    Calculate the output\u001B[39;00m\n\u001B[1;32m      6\u001B[0m \n\u001B[0;32m   (...)\u001B[0m\n\u001B[1;32m     10\u001B[0m \u001B[38;5;124;03m    :return: vector of outputs\u001B[39;00m\n\u001B[1;32m     11\u001B[0m \u001B[38;5;124;03m    \"\"\"\u001B[39;00m\n\u001B[0;32m---> 12\u001B[0m     outputs \u001B[38;5;241m=\u001B[39m np\u001B[38;5;241m.\u001B[39mdot(W, X)\n\u001B[1;32m     13\u001B[0m     beta \u001B[38;5;241m=\u001B[39m \u001B[38;5;241m5\u001B[39m\n\u001B[1;32m     14\u001B[0m     outputs_sigmoid \u001B[38;5;241m=\u001B[39m \u001B[38;5;241m1\u001B[39m \u001B[38;5;241m/\u001B[39m (\u001B[38;5;241m1\u001B[39m \u001B[38;5;241m+\u001B[39m np\u001B[38;5;241m.\u001B[39mexp(\u001B[38;5;241m-\u001B[39moutputs \u001B[38;5;241m*\u001B[39m beta))\n",
      "\u001B[0;31mValueError\u001B[0m: shapes (3,5) and (3,) not aligned: 5 (dim 1) != 3 (dim 0)"
     ]
    }
   ],
   "source": [
    "W_matrix = init1(5,3)  # 5 numbers in input, 3 neurons in layer1 (3 outputs)\n",
    "print(W_matrix)\n",
    "#result1 = calculate1(W_matrix, x_train[0])\n",
    "print(calculate1(W_matrix,x_train))\n",
    "\n",
    "W_optimal = ucz1(W_matrix, x_train, y_train, 10)\n",
    "print(W_optimal)\n",
    "print(calculate1(W_optimal,x_train))\n",
    "\n"
   ],
   "metadata": {
    "collapsed": false,
    "ExecuteTime": {
     "end_time": "2024-04-13T10:01:03.916017Z",
     "start_time": "2024-04-13T10:01:03.564164Z"
    }
   },
   "id": "932b89ad7541e7fd",
   "execution_count": 2
  },
  {
   "cell_type": "code",
   "outputs": [],
   "source": [],
   "metadata": {
    "collapsed": false
   },
   "id": "27e7af35cf1a0857"
  }
 ],
 "metadata": {
  "kernelspec": {
   "display_name": "Python 3",
   "language": "python",
   "name": "python3"
  },
  "language_info": {
   "codemirror_mode": {
    "name": "ipython",
    "version": 2
   },
   "file_extension": ".py",
   "mimetype": "text/x-python",
   "name": "python",
   "nbconvert_exporter": "python",
   "pygments_lexer": "ipython2",
   "version": "2.7.6"
  }
 },
 "nbformat": 4,
 "nbformat_minor": 5
}
